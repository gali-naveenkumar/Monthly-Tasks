{
 "cells": [
  {
   "cell_type": "markdown",
   "id": "595f1720",
   "metadata": {},
   "source": [
    "# Week 1:"
   ]
  },
  {
   "cell_type": "markdown",
   "id": "2690e4b9",
   "metadata": {},
   "source": [
    "# Write basic Python programs Temperature Converter"
   ]
  },
  {
   "cell_type": "code",
   "execution_count": 2,
   "id": "dd910dd3",
   "metadata": {},
   "outputs": [
    {
     "name": "stdout",
     "output_type": "stream",
     "text": [
      "Choose conversion:\n",
      "1. Celsius to Fahrenheit\n",
      "2. Fahrenheit to Celsius\n",
      "3. Celsius to Kelvin\n",
      "Enter your choice (1/2/3): 3\n",
      "Enter Celsius: 15\n",
      "Kelvin: 288.15\n"
     ]
    }
   ],
   "source": [
    "print(\"Choose conversion:\")\n",
    "print(\"1. Celsius to Fahrenheit\")\n",
    "print(\"2. Fahrenheit to Celsius\")\n",
    "print(\"3. Celsius to Kelvin\")\n",
    "\n",
    "choice = int(input(\"Enter your choice (1/2/3): \"))\n",
    "\n",
    "if choice == 1:\n",
    "    c = float(input(\"Enter Celsius: \"))\n",
    "    f = (c * 9/5) + 32\n",
    "    print(\"Fahrenheit:\", f)\n",
    "elif choice == 2:\n",
    "    f = float(input(\"Enter Fahrenheit: \"))\n",
    "    c = (f - 32) * 5/9\n",
    "    print(\"Celsius:\", c)\n",
    "elif choice == 3:\n",
    "    c = float(input(\"Enter Celsius: \"))\n",
    "    k = c + 273.15\n",
    "    print(\"Kelvin:\", k)\n",
    "else:\n",
    "    print(\"Invalid choice\")"
   ]
  },
  {
   "cell_type": "code",
   "execution_count": null,
   "id": "3214b902",
   "metadata": {},
   "outputs": [],
   "source": []
  },
  {
   "cell_type": "markdown",
   "id": "762e782a",
   "metadata": {},
   "source": [
    "# Basic Python Script: Average Temperature Calculator"
   ]
  },
  {
   "cell_type": "code",
   "execution_count": 6,
   "id": "f8713e8d",
   "metadata": {},
   "outputs": [
    {
     "name": "stdout",
     "output_type": "stream",
     "text": [
      "Average Temperature over 7 days is: 33.871429 °C\n"
     ]
    }
   ],
   "source": [
    "# Sample data: temperatures recorded over 7 days in Celsius\n",
    "temperatures = [32.5, 34.0, 33.2, 31.8, 35.1, 36.0, 34.5]\n",
    "\n",
    "# Calculate total temperature\n",
    "total = sum(temperatures)\n",
    "\n",
    "# Calculate number of days\n",
    "count = len(temperatures)\n",
    "\n",
    "# Calculate average temperature\n",
    "average = total / count\n",
    "\n",
    "# Display result\n",
    "print(\"Average Temperature over\", count, \"days is:\", round(average, 6), \"°C\")"
   ]
  },
  {
   "cell_type": "code",
   "execution_count": 5,
   "id": "11175703",
   "metadata": {},
   "outputs": [
    {
     "name": "stdout",
     "output_type": "stream",
     "text": [
      "Enter temperatures (comma separated): 15.6\n",
      "Average Temperature is: 15.6 °C\n"
     ]
    }
   ],
   "source": [
    "# Ask the user to enter temperatures separated by commas\n",
    "data = input(\"Enter temperatures (comma separated): \")\n",
    "temperatures = [float(temp) for temp in data.split(\",\")]\n",
    "\n",
    "average = sum(temperatures) / len(temperatures)\n",
    "print(\"Average Temperature is:\", round(average, 2), \"°C\")\n"
   ]
  },
  {
   "cell_type": "code",
   "execution_count": null,
   "id": "5d2dc3d6",
   "metadata": {},
   "outputs": [],
   "source": []
  },
  {
   "cell_type": "markdown",
   "id": "9e745a88",
   "metadata": {},
   "source": [
    "# Week 2: Data Structures and Functions"
   ]
  },
  {
   "cell_type": "markdown",
   "id": "5cd786e5",
   "metadata": {},
   "source": [
    "# Hands-On: Work with data structures and write functions for data transformations (e.g., sum of squares, filtering)."
   ]
  },
  {
   "cell_type": "markdown",
   "id": "7e49a587",
   "metadata": {},
   "source": [
    "# Real-World Examples of Data Transformations"
   ]
  },
  {
   "cell_type": "markdown",
   "id": "6c105352",
   "metadata": {},
   "source": [
    "# 1. Sum of Squares(Finance Example)"
   ]
  },
  {
   "cell_type": "code",
   "execution_count": 3,
   "id": "e3219b03",
   "metadata": {},
   "outputs": [
    {
     "name": "stdout",
     "output_type": "stream",
     "text": [
      "Daily returns: [0.5, -0.2, 0.3, -0.1, 0.4]\n",
      "Sum of Squares (Volatility measure): 0.55\n"
     ]
    }
   ],
   "source": [
    "# Sum of Squares (Finance Example)\n",
    "# Imagine you have a list of daily stock returns (%), and you want to calculate the sum of squares to measure volatility.\n",
    "\n",
    "# Function: Sum of Squares\n",
    "def sum_of_squares(data):\n",
    "    return sum(x**2 for x in data)\n",
    "\n",
    "# Example: Stock daily returns (%)\n",
    "returns = [0.5, -0.2, 0.3, -0.1, 0.4]\n",
    "result = sum_of_squares(returns)\n",
    "\n",
    "print(\"Daily returns:\", returns)\n",
    "print(\"Sum of Squares (Volatility measure):\", round(result, 4))"
   ]
  },
  {
   "cell_type": "markdown",
   "id": "c2845414",
   "metadata": {},
   "source": [
    "# 2. Filtering (Health Example)"
   ]
  },
  {
   "cell_type": "code",
   "execution_count": 4,
   "id": "7b7551f4",
   "metadata": {},
   "outputs": [
    {
     "name": "stdout",
     "output_type": "stream",
     "text": [
      "All readings: [120, 135, 142, 150, 138, 155]\n",
      "High BP readings: [142, 150, 155]\n"
     ]
    }
   ],
   "source": [
    "# Function: Filter high blood pressure readings\n",
    "def filter_high_bp(readings):\n",
    "    return [bp for bp in readings if bp > 140]\n",
    "\n",
    "# Example: Blood pressure readings\n",
    "bp_readings = [120, 135, 142, 150, 138, 155]\n",
    "high_bp = filter_high_bp(bp_readings)\n",
    "\n",
    "print(\"All readings:\", bp_readings)\n",
    "print(\"High BP readings:\", high_bp)\n"
   ]
  },
  {
   "cell_type": "code",
   "execution_count": null,
   "id": "0daf57c9",
   "metadata": {},
   "outputs": [],
   "source": []
  },
  {
   "cell_type": "markdown",
   "id": "21c67932",
   "metadata": {},
   "source": [
    "# Client Project: Write a script for data cleaning (e.g., remove duplicates, filter data) examples."
   ]
  },
  {
   "cell_type": "code",
   "execution_count": 5,
   "id": "35564c2f",
   "metadata": {},
   "outputs": [],
   "source": [
    "# In real-world projects (healthcare, finance, retail, etc.), raw data often contains:\n",
    "\n",
    "# Duplicates (same patient record entered twice)\n",
    "\n",
    "# Missing values (a customer forgot to enter phone number)\n",
    "\n",
    "# Invalid data (negative age, impossible dates)\n",
    "\n",
    "# Outliers (salary = ₹1,000,000,000 in a normal dataset)"
   ]
  },
  {
   "cell_type": "code",
   "execution_count": 7,
   "id": "9a4116b1",
   "metadata": {},
   "outputs": [
    {
     "name": "stdout",
     "output_type": "stream",
     "text": [
      "Raw Data:\n",
      "    CustomerID     Name   Age  PurchaseAmount\n",
      "0         101    Alice  25.0            2500\n",
      "1         102      Bob  30.0            3000\n",
      "2         103  Charlie   NaN            4000\n",
      "3         104    David  45.0            5000\n",
      "4         104    David  45.0            5000\n",
      "5         105      Eve  -5.0         1000000\n",
      "\n",
      "After Removing Duplicates:\n",
      "    CustomerID     Name   Age  PurchaseAmount\n",
      "0         101    Alice  25.0            2500\n",
      "1         102      Bob  30.0            3000\n",
      "2         103  Charlie   NaN            4000\n",
      "3         104    David  45.0            5000\n",
      "5         105      Eve  -5.0         1000000\n",
      "\n",
      "After Handling Missing Values:\n",
      "    CustomerID     Name    Age  PurchaseAmount\n",
      "0         101    Alice  25.00            2500\n",
      "1         102      Bob  30.00            3000\n",
      "2         103  Charlie  23.75            4000\n",
      "3         104    David  45.00            5000\n",
      "5         105      Eve  -5.00         1000000\n",
      "\n",
      "After Removing Invalid Ages:\n",
      "    CustomerID     Name    Age  PurchaseAmount\n",
      "0         101    Alice  25.00            2500\n",
      "1         102      Bob  30.00            3000\n",
      "2         103  Charlie  23.75            4000\n",
      "3         104    David  45.00            5000\n",
      "\n",
      "After Removing Outliers:\n",
      "    CustomerID     Name    Age  PurchaseAmount\n",
      "0         101    Alice  25.00            2500\n",
      "1         102      Bob  30.00            3000\n",
      "2         103  Charlie  23.75            4000\n",
      "3         104    David  45.00            5000\n"
     ]
    }
   ],
   "source": [
    "# Data Cleaning Example\n",
    "import pandas as pd\n",
    "\n",
    "# -------------------------------\n",
    "# Step 1: Create sample data\n",
    "# -------------------------------\n",
    "data = {\n",
    "    'CustomerID': [101, 102, 103, 104, 104, 105],\n",
    "    'Name': ['Alice', 'Bob', 'Charlie', 'David', 'David', 'Eve'],\n",
    "    'Age': [25, 30, None, 45, 45, -5],\n",
    "    'PurchaseAmount': [2500, 3000, 4000, 5000, 5000, 1000000]\n",
    "}\n",
    "\n",
    "df = pd.DataFrame(data)\n",
    "print(\"Raw Data:\\n\", df)\n",
    "\n",
    "# -------------------------------\n",
    "# Step 2: Remove duplicates\n",
    "# -------------------------------\n",
    "df = df.drop_duplicates()\n",
    "print(\"\\nAfter Removing Duplicates:\\n\", df)\n",
    "\n",
    "# -------------------------------\n",
    "# Step 3: Handle missing values\n",
    "# -------------------------------\n",
    "df['Age'] = df['Age'].fillna(df['Age'].mean())   # Replace missing with mean\n",
    "print(\"\\nAfter Handling Missing Values:\\n\", df)\n",
    "\n",
    "# -------------------------------\n",
    "# Step 4: Filter invalid data\n",
    "# -------------------------------\n",
    "df = df[df['Age'] > 0]   # Remove negative ages\n",
    "print(\"\\nAfter Removing Invalid Ages:\\n\", df)\n",
    "\n",
    "# -------------------------------\n",
    "# Step 5: Handle outliers\n",
    "# -------------------------------\n",
    "df = df[df['PurchaseAmount'] < 100000]  # Remove unrealistic purchase\n",
    "print(\"\\nAfter Removing Outliers:\\n\", df)\n"
   ]
  },
  {
   "cell_type": "code",
   "execution_count": null,
   "id": "4ea9fd2f",
   "metadata": {},
   "outputs": [],
   "source": []
  },
  {
   "cell_type": "markdown",
   "id": "86a420fd",
   "metadata": {},
   "source": [
    "# Week 3:"
   ]
  },
  {
   "cell_type": "markdown",
   "id": "85abf658",
   "metadata": {},
   "source": [
    "# Hands-On: Perform operations with NumPy and manipulate datasets with Pandas."
   ]
  },
  {
   "cell_type": "markdown",
   "id": "a5db6bef",
   "metadata": {},
   "source": [
    "# NumPy Operations – Weather Forecasting Example"
   ]
  },
  {
   "cell_type": "code",
   "execution_count": 9,
   "id": "4fce426b",
   "metadata": {},
   "outputs": [
    {
     "name": "stdout",
     "output_type": "stream",
     "text": [
      "Average Temperature (°C): [29.         24.71428571 33.         21.28571429 38.        ]\n",
      "\n",
      "Temperatures in Fahrenheit:\n",
      " [[ 86.   89.6  87.8  84.2  82.4  80.6  78.8]\n",
      " [ 77.   78.8  75.2  73.4  75.2  77.   78.8]\n",
      " [ 95.   96.8  93.2  91.4  89.6  87.8  86. ]\n",
      " [ 68.   69.8  71.6  68.   69.8  71.6  73.4]\n",
      " [104.  105.8 102.2 100.4  98.6  96.8  95. ]]\n"
     ]
    }
   ],
   "source": [
    "import numpy as np\n",
    "\n",
    "# Rows = cities, Columns = days\n",
    "temperatures_c = np.array([\n",
    "    [30, 32, 31, 29, 28, 27, 26],  # Delhi\n",
    "    [25, 26, 24, 23, 24, 25, 26],  # Bangalore\n",
    "    [35, 36, 34, 33, 32, 31, 30],  # Chennai\n",
    "    [20, 21, 22, 20, 21, 22, 23],  # Shimla\n",
    "    [40, 41, 39, 38, 37, 36, 35]   # Hyderabad\n",
    "])\n",
    "\n",
    "# 1. Average temperature per city\n",
    "avg_per_city = np.mean(temperatures_c, axis=1)\n",
    "print(\"Average Temperature (°C):\", avg_per_city)\n",
    "\n",
    "# 2. Convert all temps to Fahrenheit\n",
    "temps_f = (temperatures_c * 9/5) + 32\n",
    "print(\"\\nTemperatures in Fahrenheit:\\n\", temps_f)"
   ]
  },
  {
   "cell_type": "code",
   "execution_count": null,
   "id": "f9bb40ba",
   "metadata": {},
   "outputs": [],
   "source": []
  },
  {
   "cell_type": "markdown",
   "id": "3bfa44de",
   "metadata": {},
   "source": [
    "# Pandas Manipulation – Sales Dataset Example"
   ]
  },
  {
   "cell_type": "code",
   "execution_count": 10,
   "id": "553ef983",
   "metadata": {},
   "outputs": [
    {
     "name": "stdout",
     "output_type": "stream",
     "text": [
      "Total Sales by Product:\n",
      "   Product  Total_Sales\n",
      "0  Laptop      5120000\n",
      "1  Mobile      1835000\n",
      "2      TV       800000\n",
      "3  Tablet       600000\n"
     ]
    }
   ],
   "source": [
    "import pandas as pd\n",
    "\n",
    "# Sample sales data\n",
    "data = {\n",
    "    'Product': ['Mobile', 'Laptop', 'Tablet', 'Laptop', 'Mobile', 'TV'],\n",
    "    'Units_Sold': [50, 40, 30, 60, 70, 20],\n",
    "    'Unit_Price': [15000, 50000, 20000, 52000, 15500, 40000]\n",
    "}\n",
    "\n",
    "df = pd.DataFrame(data)\n",
    "\n",
    "# 1. Add Total Sales column\n",
    "df['Total_Sales'] = df['Units_Sold'] * df['Unit_Price']\n",
    "\n",
    "# 2. Group by product and calculate total sales\n",
    "grouped = df.groupby('Product')['Total_Sales'].sum().reset_index()\n",
    "\n",
    "# 3. Filter products with high sales\n",
    "high_sales = grouped[grouped['Total_Sales'] > 50000]\n",
    "\n",
    "# 4. Sort by sales\n",
    "sorted_sales = high_sales.sort_values(by='Total_Sales', ascending=False)\n",
    "\n",
    "print(\"Total Sales by Product:\\n\", sorted_sales)"
   ]
  },
  {
   "cell_type": "code",
   "execution_count": null,
   "id": "e1c8c8c3",
   "metadata": {},
   "outputs": [],
   "source": []
  },
  {
   "cell_type": "markdown",
   "id": "6dcc6a43",
   "metadata": {},
   "source": [
    "# NumPy + Pandas Together – Student Performance Example"
   ]
  },
  {
   "cell_type": "code",
   "execution_count": 11,
   "id": "4092e728",
   "metadata": {},
   "outputs": [
    {
     "name": "stdout",
     "output_type": "stream",
     "text": [
      "   Student  Math  Science  English  Total  Normalized Grade\n",
      "0    Alice    78       88       92    258      100.00     A\n",
      "1      Bob    85       80       70    235       91.09     A\n",
      "2  Charlie    90       75       85    250       96.90     A\n"
     ]
    }
   ],
   "source": [
    "import numpy as np\n",
    "import pandas as pd\n",
    "\n",
    "data = {\n",
    "    'Student': ['Alice', 'Bob', 'Charlie'],\n",
    "    'Math': [78, 85, 90],\n",
    "    'Science': [88, 80, 75],\n",
    "    'English': [92, 70, 85]\n",
    "}\n",
    "\n",
    "df = pd.DataFrame(data)\n",
    "\n",
    "# 1. Total marks\n",
    "df['Total'] = df[['Math', 'Science', 'English']].sum(axis=1)\n",
    "\n",
    "# 2. Normalize total to 0–100 scale using NumPy\n",
    "max_score = df['Total'].max()\n",
    "df['Normalized'] = np.round((df['Total'] / max_score) * 100, 2)\n",
    "\n",
    "# 3. Assign grades\n",
    "df['Grade'] = pd.cut(df['Normalized'],\n",
    "                     bins=[0, 60, 75, 90, 100],\n",
    "                     labels=['D', 'C', 'B', 'A'])\n",
    "\n",
    "print(df)"
   ]
  },
  {
   "cell_type": "code",
   "execution_count": null,
   "id": "6e1ac998",
   "metadata": {},
   "outputs": [],
   "source": []
  },
  {
   "cell_type": "markdown",
   "id": "b91ebe2e",
   "metadata": {},
   "source": [
    "# Client Project: Clean and aggregate a dataset (e.g., remove missing values,calculate averages)."
   ]
  },
  {
   "cell_type": "markdown",
   "id": "51d0d58c",
   "metadata": {},
   "source": [
    "# Data Cleaning & Aggregation (E-commerce Sales Data)"
   ]
  },
  {
   "cell_type": "code",
   "execution_count": 12,
   "id": "a3d085d3",
   "metadata": {},
   "outputs": [
    {
     "name": "stdout",
     "output_type": "stream",
     "text": [
      "🔹 Raw Data:\n",
      "    OrderID Customer Product    Price\n",
      "0     1001    Alice   Phone  15000.0\n",
      "1     1002      Bob  Laptop  52000.0\n",
      "2     1003     None  Tablet      NaN\n",
      "3     1003     None  Tablet      NaN\n",
      "4     1004    David   Phone  15000.0\n",
      "5     1005      Eve  Laptop  50000.0\n",
      "6     1006    Frank   Phone      0.0\n",
      "\n",
      "✅ Cleaned & Aggregated Data (Average Price per Product):\n",
      "   Product    Price\n",
      "0  Laptop  51000.0\n",
      "1   Phone  15000.0\n"
     ]
    }
   ],
   "source": [
    "import pandas as pd\n",
    "\n",
    "# Sample data simulating a messy sales file\n",
    "data = {\n",
    "    'OrderID': [1001, 1002, 1003, 1003, 1004, 1005, 1006],\n",
    "    'Customer': ['Alice', 'Bob', None, None, 'David', 'Eve', 'Frank'],\n",
    "    'Product': ['Phone', 'Laptop', 'Tablet', 'Tablet', 'Phone', 'Laptop', 'Phone'],\n",
    "    'Price': [15000, 52000, None, None, 15000, 50000, 0]\n",
    "}\n",
    "\n",
    "df = pd.DataFrame(data)\n",
    "print(\"🔹 Raw Data:\\n\", df)\n",
    "\n",
    "# ---------------------------------------\n",
    "# Step 1: Remove duplicates\n",
    "df = df.drop_duplicates()\n",
    "# Step 2: Drop rows with missing Customer or Price\n",
    "df = df.dropna(subset=['Customer', 'Price'])\n",
    "# Step 3: Remove rows with zero price\n",
    "df = df[df['Price'] > 0]\n",
    "\n",
    "# ---------------------------------------\n",
    "# Step 4: Aggregation - average price per product\n",
    "product_avg = df.groupby('Product')['Price'].mean().reset_index()\n",
    "print(\"\\n✅ Cleaned & Aggregated Data (Average Price per Product):\\n\", product_avg)"
   ]
  },
  {
   "cell_type": "code",
   "execution_count": null,
   "id": "8182433b",
   "metadata": {},
   "outputs": [],
   "source": []
  },
  {
   "cell_type": "markdown",
   "id": "ce451aa2",
   "metadata": {},
   "source": [
    "# Week 4:"
   ]
  },
  {
   "cell_type": "markdown",
   "id": "cbc06009",
   "metadata": {},
   "source": [
    "# Data Visualization with Matplotlib & Seaborn"
   ]
  },
  {
   "cell_type": "markdown",
   "id": "f4f70abf",
   "metadata": {},
   "source": [
    "# 1) Sales Trend Over Time (Matplotlib - line chart)"
   ]
  },
  {
   "cell_type": "code",
   "execution_count": 14,
   "id": "d55524ba",
   "metadata": {},
   "outputs": [
    {
     "data": {
      "image/png": "[encoded data removed]",
      "text/plain": [
       "<Figure size 640x480 with 1 Axes>"
      ]
     },
     "metadata": {},
     "output_type": "display_data"
    }
   ],
   "source": [
    "# An e-commerce store wants to visualize how sales have changed over 6 months.\n",
    "import matplotlib.pyplot as plt\n",
    "\n",
    "months = ['Jan', 'Feb', 'Mar', 'Apr', 'May', 'Jun']\n",
    "sales = [15000, 18000, 22000, 21000, 25000, 27000]\n",
    "\n",
    "plt.plot(months, sales, marker='o', color='green')\n",
    "plt.title(\"Monthly Sales Trend\")\n",
    "plt.xlabel(\"Month\")\n",
    "plt.ylabel(\"Sales (₹)\")\n",
    "plt.grid(True)\n",
    "plt.show()"
   ]
  },
  {
   "cell_type": "markdown",
   "id": "a7eacb37",
   "metadata": {},
   "source": [
    "# 2) Customer Segmentation by City (Seaborn - Bar Plot)"
   ]
  },
  {
   "cell_type": "code",
   "execution_count": 15,
   "id": "974d40c9",
   "metadata": {},
   "outputs": [
    {
     "data": {
      "image/png": "[encoded data removed]",
      "text/plain": [
       "<Figure size 640x480 with 1 Axes>"
      ]
     },
     "metadata": {},
     "output_type": "display_data"
    }
   ],
   "source": [
    "# You work with a retail chain that wants to compare total customers from different cities.\n",
    "import seaborn as sns\n",
    "import pandas as pd\n",
    "import matplotlib.pyplot as plt\n",
    "\n",
    "# Sample Data\n",
    "data = {\n",
    "    'City': ['Delhi', 'Bangalore', 'Mumbai', 'Chennai', 'Hyderabad'],\n",
    "    'Customers': [300, 250, 320, 210, 270]\n",
    "}\n",
    "df = pd.DataFrame(data)\n",
    "\n",
    "sns.barplot(x='City', y='Customers', data=df, palette='Blues_d')\n",
    "plt.title(\"Customer Count by City\")\n",
    "plt.show()"
   ]
  },
  {
   "cell_type": "code",
   "execution_count": null,
   "id": "585b1710",
   "metadata": {},
   "outputs": [],
   "source": []
  },
  {
   "cell_type": "markdown",
   "id": "6672933f",
   "metadata": {},
   "source": [
    "# Client Project: Create a dashboard for visualizing relationships between features in a dataset (e.g., scatter plots, histograms)."
   ]
  },
  {
   "cell_type": "markdown",
   "id": "967d02d9",
   "metadata": {},
   "source": [
    "# Dashboard for Visualizing Feature Relationships"
   ]
  },
  {
   "cell_type": "markdown",
   "id": "53f91218",
   "metadata": {},
   "source": [
    "#  Startup - Customer Spending Analysis"
   ]
  },
  {
   "cell_type": "code",
   "execution_count": 16,
   "id": "a5787c15",
   "metadata": {},
   "outputs": [
    {
     "data": {
      "image/png": "[encoded data removed]",
      "text/plain": [
       "<Figure size 600x400 with 1 Axes>"
      ]
     },
     "metadata": {},
     "output_type": "display_data"
    },
    {
     "data": {
      "image/png": "[encoded data removed]",
      "text/plain": [
       "<Figure size 600x400 with 1 Axes>"
      ]
     },
     "metadata": {},
     "output_type": "display_data"
    },
    {
     "data": {
      "image/png": "[encoded data removed]",
      "text/plain": [
       "<Figure size 500x400 with 2 Axes>"
      ]
     },
     "metadata": {},
     "output_type": "display_data"
    }
   ],
   "source": [
    "# Step-by-Step Python Dashboard (using Seaborn & Matplotlib)\n",
    "import pandas as pd\n",
    "import seaborn as sns\n",
    "import matplotlib.pyplot as plt\n",
    "\n",
    "# Sample customer data\n",
    "data = {\n",
    "    'Age': [19, 21, 35, 40, 23, 30, 60, 45, 50, 31],\n",
    "    'Income': [15000, 18000, 55000, 76000, 20000, 43000, 90000, 72000, 65000, 40000],\n",
    "    'Spending_Score': [39, 81, 6, 77, 40, 60, 20, 55, 35, 70],\n",
    "    'Gender': ['Male', 'Female', 'Male', 'Female', 'Female', 'Male', 'Male', 'Female', 'Male', 'Female']\n",
    "}\n",
    "\n",
    "df = pd.DataFrame(data)\n",
    "\n",
    "# Scatter Plot: Income vs. Spending Score\n",
    "plt.figure(figsize=(6, 4))\n",
    "sns.scatterplot(x='Income', y='Spending_Score', hue='Gender', data=df)\n",
    "plt.title('Income vs Spending Score')\n",
    "plt.show()\n",
    "\n",
    "# Histogram: Age distribution\n",
    "plt.figure(figsize=(6, 4))\n",
    "sns.histplot(df['Age'], bins=6, kde=True, color='green')\n",
    "plt.title('Age Distribution of Customers')\n",
    "plt.xlabel('Age')\n",
    "plt.ylabel('Count')\n",
    "plt.show()\n",
    "\n",
    "# Correlation Heatmap\n",
    "plt.figure(figsize=(5, 4))\n",
    "sns.heatmap(df[['Age', 'Income', 'Spending_Score']].corr(), annot=True, cmap='coolwarm')\n",
    "plt.title('Feature Correlation')\n",
    "plt.show()"
   ]
  },
  {
   "cell_type": "code",
   "execution_count": null,
   "id": "8b12cd73",
   "metadata": {},
   "outputs": [],
   "source": []
  }
 ],
 "metadata": {
  "kernelspec": {
   "display_name": "Python 3 (ipykernel)",
   "language": "python",
   "name": "python3"
  },
  "language_info": {
   "codemirror_mode": {
    "name": "ipython",
    "version": 3
   },
   "file_extension": ".py",
   "mimetype": "text/x-python",
   "name": "python",
   "nbconvert_exporter": "python",
   "pygments_lexer": "ipython3",
   "version": "3.11.5"
  }
 },
 "nbformat": 4,
 "nbformat_minor": 5
}
