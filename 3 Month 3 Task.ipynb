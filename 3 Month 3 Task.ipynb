{
 "cells": [
  {
   "cell_type": "markdown",
   "id": "86f761ab",
   "metadata": {},
   "source": [
    "# Week 9: Advanced Supervised Learning Algorithms"
   ]
  },
  {
   "cell_type": "markdown",
   "id": "71c59c6e",
   "metadata": {},
   "source": [
    "# Hands-On: Implement a Random Forest or XGBoost classifier."
   ]
  },
  {
   "cell_type": "code",
   "execution_count": 1,
   "id": "79ea7e5a",
   "metadata": {},
   "outputs": [
    {
     "name": "stdout",
     "output_type": "stream",
     "text": [
      "Accuracy: 1.0\n",
      "              precision    recall  f1-score   support\n",
      "\n",
      "           0       1.00      1.00      1.00         2\n",
      "           1       1.00      1.00      1.00         1\n",
      "\n",
      "    accuracy                           1.00         3\n",
      "   macro avg       1.00      1.00      1.00         3\n",
      "weighted avg       1.00      1.00      1.00         3\n",
      "\n"
     ]
    }
   ],
   "source": [
    "# Real-World Example: Bank Loan Approval Prediction\n",
    "import pandas as pd\n",
    "from sklearn.model_selection import train_test_split\n",
    "from sklearn.ensemble import RandomForestClassifier\n",
    "from sklearn.metrics import accuracy_score, classification_report\n",
    "\n",
    "# Sample dataset\n",
    "data = {\n",
    "    'Age': [25, 45, 35, 33, 52, 28, 42, 39],\n",
    "    'Income': [40000, 80000, 60000, 50000, 120000, 45000, 75000, 90000],\n",
    "    'CreditScore': [650, 700, 680, 620, 720, 640, 690, 710],\n",
    "    'LoanApproved': [0, 1, 1, 0, 1, 0, 1, 1]  # 1 = Approved, 0 = Not Approved\n",
    "}\n",
    "\n",
    "df = pd.DataFrame(data)\n",
    "\n",
    "# Features & Target\n",
    "X = df[['Age', 'Income', 'CreditScore']]\n",
    "y = df['LoanApproved']\n",
    "\n",
    "# Train-test split\n",
    "X_train, X_test, y_train, y_test = train_test_split(X, y, test_size=0.3, random_state=42)\n",
    "\n",
    "# Random Forest Model\n",
    "model = RandomForestClassifier(n_estimators=100, random_state=42)\n",
    "model.fit(X_train, y_train)\n",
    "\n",
    "# Predictions\n",
    "y_pred = model.predict(X_test)\n",
    "\n",
    "# Evaluation\n",
    "print(\"Accuracy:\", accuracy_score(y_test, y_pred))\n",
    "print(classification_report(y_test, y_pred))"
   ]
  },
  {
   "cell_type": "markdown",
   "id": "ed813e2b",
   "metadata": {},
   "source": [
    "# Client Project: Advanced Classifier – Customer Churn Prediction\n",
    "#XGBoost Classifier for Churn Prediction"
   ]
  },
  {
   "cell_type": "code",
   "execution_count": 2,
   "id": "3686797d",
   "metadata": {},
   "outputs": [
    {
     "name": "stdout",
     "output_type": "stream",
     "text": [
      " Accuracy: 0.6666666666666666\n",
      "\n",
      " Classification Report:\n",
      "               precision    recall  f1-score   support\n",
      "\n",
      "           0       0.67      1.00      0.80         2\n",
      "           1       0.00      0.00      0.00         1\n",
      "\n",
      "    accuracy                           0.67         3\n",
      "   macro avg       0.33      0.50      0.40         3\n",
      "weighted avg       0.44      0.67      0.53         3\n",
      "\n"
     ]
    },
    {
     "name": "stderr",
     "output_type": "stream",
     "text": [
      "C:\\Users\\91832\\anaconda3\\Lib\\site-packages\\xgboost\\training.py:183: UserWarning: [11:38:34] WARNING: C:\\actions-runner\\_work\\xgboost\\xgboost\\src\\learner.cc:738: \n",
      "Parameters: { \"use_label_encoder\" } are not used.\n",
      "\n",
      "  bst.update(dtrain, iteration=i, fobj=obj)\n",
      "C:\\Users\\91832\\anaconda3\\Lib\\site-packages\\sklearn\\metrics\\_classification.py:1469: UndefinedMetricWarning: Precision and F-score are ill-defined and being set to 0.0 in labels with no predicted samples. Use `zero_division` parameter to control this behavior.\n",
      "  _warn_prf(average, modifier, msg_start, len(result))\n",
      "C:\\Users\\91832\\anaconda3\\Lib\\site-packages\\sklearn\\metrics\\_classification.py:1469: UndefinedMetricWarning: Precision and F-score are ill-defined and being set to 0.0 in labels with no predicted samples. Use `zero_division` parameter to control this behavior.\n",
      "  _warn_prf(average, modifier, msg_start, len(result))\n",
      "C:\\Users\\91832\\anaconda3\\Lib\\site-packages\\sklearn\\metrics\\_classification.py:1469: UndefinedMetricWarning: Precision and F-score are ill-defined and being set to 0.0 in labels with no predicted samples. Use `zero_division` parameter to control this behavior.\n",
      "  _warn_prf(average, modifier, msg_start, len(result))\n"
     ]
    }
   ],
   "source": [
    "import pandas as pd\n",
    "from sklearn.model_selection import train_test_split\n",
    "from sklearn.metrics import accuracy_score, classification_report\n",
    "from xgboost import XGBClassifier\n",
    "\n",
    "# Step 1: Sample Client Data\n",
    "data = {\n",
    "    'CustomerAge': [25, 40, 30, 45, 60, 35, 50, 28, 42, 55],\n",
    "    'MonthlyCharges': [300, 700, 450, 800, 1000, 500, 850, 400, 650, 900],\n",
    "    'ContractType': [0, 1, 0, 1, 1, 0, 1, 0, 1, 1],  # 0 = Monthly, 1 = Yearly\n",
    "    'SupportCalls': [2, 0, 3, 1, 0, 4, 1, 2, 0, 0],\n",
    "    'Tenure': [5, 24, 12, 36, 48, 10, 30, 6, 20, 40],\n",
    "    'Churn': [1, 0, 1, 0, 0, 1, 0, 1, 0, 0]  # Target\n",
    "}\n",
    "\n",
    "df = pd.DataFrame(data)\n",
    "\n",
    "# Step 2: Features & Target\n",
    "X = df.drop('Churn', axis=1)  # Features\n",
    "y = df['Churn']               # Target\n",
    "\n",
    "# Step 3: Train-Test Split\n",
    "X_train, X_test, y_train, y_test = train_test_split(X, y, test_size=0.3, random_state=42)\n",
    "\n",
    "# Step 4: Train XGBoost Classifier\n",
    "model = XGBClassifier(use_label_encoder=False, eval_metric='logloss')\n",
    "model.fit(X_train, y_train)\n",
    "\n",
    "# Step 5: Predictions\n",
    "y_pred = model.predict(X_test)\n",
    "\n",
    "print(\" Accuracy:\", accuracy_score(y_test, y_pred))\n",
    "print(\"\\n Classification Report:\\n\", classification_report(y_test, y_pred))"
   ]
  },
  {
   "cell_type": "code",
   "execution_count": null,
   "id": "ef976503",
   "metadata": {},
   "outputs": [],
   "source": []
  },
  {
   "cell_type": "markdown",
   "id": "2062d9b0",
   "metadata": {},
   "source": [
    "# Week 10: Clustering and Unsupervised Learning"
   ]
  },
  {
   "cell_type": "markdown",
   "id": "46ed9b27",
   "metadata": {},
   "source": [
    "# Hands-On: Apply K-means clustering and use PCA for dimensionality reduction."
   ]
  },
  {
   "cell_type": "code",
   "execution_count": 3,
   "id": "ee7790f8",
   "metadata": {},
   "outputs": [
    {
     "name": "stderr",
     "output_type": "stream",
     "text": [
      "C:\\Users\\91832\\anaconda3\\Lib\\site-packages\\sklearn\\cluster\\_kmeans.py:1412: FutureWarning: The default value of `n_init` will change from 10 to 'auto' in 1.4. Set the value of `n_init` explicitly to suppress the warning\n",
      "  super()._check_params_vs_input(X, default_n_init=10)\n",
      "C:\\Users\\91832\\anaconda3\\Lib\\site-packages\\sklearn\\cluster\\_kmeans.py:1436: UserWarning: KMeans is known to have a memory leak on Windows with MKL, when there are less chunks than available threads. You can avoid it by setting the environment variable OMP_NUM_THREADS=1.\n",
      "  warnings.warn(\n"
     ]
    },
    {
     "data": {
      "image/png": "[encoded data removed]",
      "text/plain": [
       "<Figure size 800x600 with 1 Axes>"
      ]
     },
     "metadata": {},
     "output_type": "display_data"
    },
    {
     "name": "stdout",
     "output_type": "stream",
     "text": [
      " Clustered Customer Data:\n",
      "     Age  AnnualIncome  SpendingScore  Cluster\n",
      "0    19         15000             39        2\n",
      "1    21         18000             81        0\n",
      "2    20         22000              6        2\n",
      "3    23         25000             77        0\n",
      "4    31         40000             40        2\n",
      "5    35         60000             60        0\n",
      "6    40         80000             20        1\n",
      "7    45         85000             55        1\n",
      "8    60         30000             35        1\n",
      "9    70         20000             50        1\n",
      "10   25         50000             70        0\n",
      "11   28         55000             65        0\n",
      "12   50         75000             30        1\n",
      "13   55         90000             25        1\n",
      "14   38         65000             75        0\n"
     ]
    }
   ],
   "source": [
    "# Customer Segmentation in Retail\n",
    "import pandas as pd\n",
    "import numpy as np\n",
    "import matplotlib.pyplot as plt\n",
    "import seaborn as sns\n",
    "from sklearn.cluster import KMeans\n",
    "from sklearn.decomposition import PCA\n",
    "from sklearn.preprocessing import StandardScaler\n",
    "\n",
    "# Step 1: Create Sample Data\n",
    "data = {\n",
    "    'Age': [19, 21, 20, 23, 31, 35, 40, 45, 60, 70, 25, 28, 50, 55, 38],\n",
    "    'AnnualIncome': [15000, 18000, 22000, 25000, 40000, 60000, 80000, 85000, 30000, 20000, 50000, 55000, 75000, 90000, 65000],\n",
    "    'SpendingScore': [39, 81, 6, 77, 40, 60, 20, 55, 35, 50, 70, 65, 30, 25, 75]\n",
    "}\n",
    "\n",
    "df = pd.DataFrame(data)\n",
    "\n",
    "# Step 2: Standardize Data\n",
    "scaler = StandardScaler()\n",
    "scaled_data = scaler.fit_transform(df)\n",
    "\n",
    "# Step 3: Apply PCA (2D reduction)\n",
    "pca = PCA(n_components=2)\n",
    "pca_data = pca.fit_transform(scaled_data)\n",
    "\n",
    "# Step 4: K-Means Clustering\n",
    "kmeans = KMeans(n_clusters=3, random_state=42)\n",
    "clusters = kmeans.fit_predict(pca_data)\n",
    "\n",
    "# Add cluster labels to dataframe\n",
    "df['Cluster'] = clusters\n",
    "\n",
    "# Step 5: Visualization\n",
    "plt.figure(figsize=(8,6))\n",
    "sns.scatterplot(x=pca_data[:,0], y=pca_data[:,1], hue=clusters, palette=\"Set1\", s=100)\n",
    "plt.title(\"Customer Segmentation using K-Means + PCA\")\n",
    "plt.xlabel(\"PCA Component 1\")\n",
    "plt.ylabel(\"PCA Component 2\")\n",
    "plt.show()\n",
    "\n",
    "print(\" Clustered Customer Data:\\n\", df)"
   ]
  },
  {
   "cell_type": "markdown",
   "id": "45c1ed78",
   "metadata": {},
   "source": [
    "# Client Project: Create a customer segmentation model based on purchasing behavior."
   ]
  },
  {
   "cell_type": "code",
   "execution_count": 4,
   "id": "2f946f6e",
   "metadata": {},
   "outputs": [
    {
     "name": "stderr",
     "output_type": "stream",
     "text": [
      "C:\\Users\\91832\\anaconda3\\Lib\\site-packages\\sklearn\\cluster\\_kmeans.py:1412: FutureWarning: The default value of `n_init` will change from 10 to 'auto' in 1.4. Set the value of `n_init` explicitly to suppress the warning\n",
      "  super()._check_params_vs_input(X, default_n_init=10)\n",
      "C:\\Users\\91832\\anaconda3\\Lib\\site-packages\\sklearn\\cluster\\_kmeans.py:1436: UserWarning: KMeans is known to have a memory leak on Windows with MKL, when there are less chunks than available threads. You can avoid it by setting the environment variable OMP_NUM_THREADS=1.\n",
      "  warnings.warn(\n"
     ]
    },
    {
     "data": {
      "image/png": "[encoded data removed]",
      "text/plain": [
       "<Figure size 800x600 with 1 Axes>"
      ]
     },
     "metadata": {},
     "output_type": "display_data"
    },
    {
     "name": "stdout",
     "output_type": "stream",
     "text": [
      " Segmented Customer Data:\n",
      "    CustomerID  Age  AnnualIncome  SpendingScore  Cluster\n",
      "0           1   25         25000             39        1\n",
      "1           2   34         48000             81        0\n",
      "2           3   22         30000              6        1\n",
      "3           4   45         60000             77        0\n",
      "4           5   52         75000             40        2\n",
      "5           6   23         20000             95        0\n",
      "6           7   40         50000             20        1\n",
      "7           8   36         42000             60        0\n",
      "8           9   60         90000             15        2\n",
      "9          10   30         35000             55        0\n"
     ]
    }
   ],
   "source": [
    "# Customer Segmentation\n",
    "import pandas as pd\n",
    "import matplotlib.pyplot as plt\n",
    "import seaborn as sns\n",
    "from sklearn.cluster import KMeans\n",
    "from sklearn.preprocessing import StandardScaler\n",
    "\n",
    "# Step 1: Create Sample Customer Data\n",
    "data = {\n",
    "    'CustomerID': [1,2,3,4,5,6,7,8,9,10],\n",
    "    'Age': [25, 34, 22, 45, 52, 23, 40, 36, 60, 30],\n",
    "    'AnnualIncome': [25000, 48000, 30000, 60000, 75000, 20000, 50000, 42000, 90000, 35000],\n",
    "    'SpendingScore': [39, 81, 6, 77, 40, 95, 20, 60, 15, 55]\n",
    "}\n",
    "\n",
    "df = pd.DataFrame(data)\n",
    "\n",
    "# Step 2: Select Features\n",
    "X = df[['Age', 'AnnualIncome', 'SpendingScore']]\n",
    "\n",
    "# Standardize features\n",
    "scaler = StandardScaler()\n",
    "X_scaled = scaler.fit_transform(X)\n",
    "\n",
    "# Step 3: Apply K-Means Clustering\n",
    "kmeans = KMeans(n_clusters=3, random_state=42)\n",
    "df['Cluster'] = kmeans.fit_predict(X_scaled)\n",
    "\n",
    "# Step 4: Visualize Clusters\n",
    "plt.figure(figsize=(8,6))\n",
    "sns.scatterplot(data=df, x='AnnualIncome', y='SpendingScore',\n",
    "                hue='Cluster', palette='Set1', s=100)\n",
    "plt.title(\"Customer Segmentation Based on Purchasing Behavior\")\n",
    "plt.xlabel(\"Annual Income\")\n",
    "plt.ylabel(\"Spending Score\")\n",
    "plt.show()\n",
    "\n",
    "print(\" Segmented Customer Data:\\n\", df)"
   ]
  },
  {
   "cell_type": "code",
   "execution_count": null,
   "id": "b0675f9b",
   "metadata": {},
   "outputs": [],
   "source": []
  },
  {
   "cell_type": "markdown",
   "id": "b4fe5fc8",
   "metadata": {},
   "source": [
    "# Week 11: Introduction to Deep Learning"
   ]
  },
  {
   "cell_type": "markdown",
   "id": "90e45cb2",
   "metadata": {},
   "source": [
    "# Hands-On: Build a simple neural network using Keras."
   ]
  },
  {
   "cell_type": "code",
   "execution_count": 5,
   "id": "9eb568df",
   "metadata": {},
   "outputs": [
    {
     "name": "stderr",
     "output_type": "stream",
     "text": [
      "C:\\Users\\91832\\anaconda3\\Lib\\site-packages\\keras\\src\\layers\\core\\dense.py:87: UserWarning: Do not pass an `input_shape`/`input_dim` argument to a layer. When using Sequential models, prefer using an `Input(shape)` object as the first layer in the model instead.\n",
      "  super().__init__(activity_regularizer=activity_regularizer, **kwargs)\n"
     ]
    },
    {
     "name": "stdout",
     "output_type": "stream",
     "text": [
      "Epoch 1/20\n",
      "\u001b[1m4/4\u001b[0m \u001b[32m━━━━━━━━━━━━━━━━━━━━\u001b[0m\u001b[37m\u001b[0m \u001b[1m1s\u001b[0m 4ms/step - accuracy: 0.7619 - loss: 0.6914\n",
      "Epoch 2/20\n",
      "\u001b[1m4/4\u001b[0m \u001b[32m━━━━━━━━━━━━━━━━━━━━\u001b[0m\u001b[37m\u001b[0m \u001b[1m0s\u001b[0m 3ms/step - accuracy: 0.4786 - loss: 0.7359 \n",
      "Epoch 3/20\n",
      "\u001b[1m4/4\u001b[0m \u001b[32m━━━━━━━━━━━━━━━━━━━━\u001b[0m\u001b[37m\u001b[0m \u001b[1m0s\u001b[0m 2ms/step - accuracy: 0.5286 - loss: 0.7410 \n",
      "Epoch 4/20\n",
      "\u001b[1m4/4\u001b[0m \u001b[32m━━━━━━━━━━━━━━━━━━━━\u001b[0m\u001b[37m\u001b[0m \u001b[1m0s\u001b[0m 4ms/step - accuracy: 0.7119 - loss: 0.6705 \n",
      "Epoch 5/20\n",
      "\u001b[1m4/4\u001b[0m \u001b[32m━━━━━━━━━━━━━━━━━━━━\u001b[0m\u001b[37m\u001b[0m \u001b[1m0s\u001b[0m 2ms/step - accuracy: 0.7119 - loss: 0.6652 \n",
      "Epoch 6/20\n",
      "\u001b[1m4/4\u001b[0m \u001b[32m━━━━━━━━━━━━━━━━━━━━\u001b[0m\u001b[37m\u001b[0m \u001b[1m0s\u001b[0m 2ms/step - accuracy: 0.6119 - loss: 0.6654 \n",
      "Epoch 7/20\n",
      "\u001b[1m4/4\u001b[0m \u001b[32m━━━━━━━━━━━━━━━━━━━━\u001b[0m\u001b[37m\u001b[0m \u001b[1m0s\u001b[0m 2ms/step - accuracy: 0.5786 - loss: 0.6947 \n",
      "Epoch 8/20\n",
      "\u001b[1m4/4\u001b[0m \u001b[32m━━━━━━━━━━━━━━━━━━━━\u001b[0m\u001b[37m\u001b[0m \u001b[1m0s\u001b[0m 3ms/step - accuracy: 0.6619 - loss: 0.6431 \n",
      "Epoch 9/20\n",
      "\u001b[1m4/4\u001b[0m \u001b[32m━━━━━━━━━━━━━━━━━━━━\u001b[0m\u001b[37m\u001b[0m \u001b[1m0s\u001b[0m 2ms/step - accuracy: 0.7119 - loss: 0.6483 \n",
      "Epoch 10/20\n",
      "\u001b[1m4/4\u001b[0m \u001b[32m━━━━━━━━━━━━━━━━━━━━\u001b[0m\u001b[37m\u001b[0m \u001b[1m0s\u001b[0m 4ms/step - accuracy: 0.4381 - loss: 0.6699 \n",
      "Epoch 11/20\n",
      "\u001b[1m4/4\u001b[0m \u001b[32m━━━━━━━━━━━━━━━━━━━━\u001b[0m\u001b[37m\u001b[0m \u001b[1m0s\u001b[0m 2ms/step - accuracy: 0.3214 - loss: 0.6822     \n",
      "Epoch 12/20\n",
      "\u001b[1m4/4\u001b[0m \u001b[32m━━━━━━━━━━━━━━━━━━━━\u001b[0m\u001b[37m\u001b[0m \u001b[1m0s\u001b[0m 2ms/step - accuracy: 0.4381 - loss: 0.6474 \n",
      "Epoch 13/20\n",
      "\u001b[1m4/4\u001b[0m \u001b[32m━━━━━━━━━━━━━━━━━━━━\u001b[0m\u001b[37m\u001b[0m \u001b[1m0s\u001b[0m 2ms/step - accuracy: 0.4714 - loss: 0.6317 \n",
      "Epoch 14/20\n",
      "\u001b[1m4/4\u001b[0m \u001b[32m━━━━━━━━━━━━━━━━━━━━\u001b[0m\u001b[37m\u001b[0m \u001b[1m0s\u001b[0m 4ms/step - accuracy: 0.3214 - loss: 0.6579     \n",
      "Epoch 15/20\n",
      "\u001b[1m4/4\u001b[0m \u001b[32m━━━━━━━━━━━━━━━━━━━━\u001b[0m\u001b[37m\u001b[0m \u001b[1m0s\u001b[0m 4ms/step - accuracy: 0.4714 - loss: 0.6196 \n",
      "Epoch 16/20\n",
      "\u001b[1m4/4\u001b[0m \u001b[32m━━━━━━━━━━━━━━━━━━━━\u001b[0m\u001b[37m\u001b[0m \u001b[1m0s\u001b[0m 2ms/step - accuracy: 0.3714 - loss: 0.6493     \n",
      "Epoch 17/20\n",
      "\u001b[1m4/4\u001b[0m \u001b[32m━━━━━━━━━━━━━━━━━━━━\u001b[0m\u001b[37m\u001b[0m \u001b[1m0s\u001b[0m 4ms/step - accuracy: 0.3881 - loss: 0.6445 \n",
      "Epoch 18/20\n",
      "\u001b[1m4/4\u001b[0m \u001b[32m━━━━━━━━━━━━━━━━━━━━\u001b[0m\u001b[37m\u001b[0m \u001b[1m0s\u001b[0m 2ms/step - accuracy: 0.4714 - loss: 0.5955 \n",
      "Epoch 19/20\n",
      "\u001b[1m4/4\u001b[0m \u001b[32m━━━━━━━━━━━━━━━━━━━━\u001b[0m\u001b[37m\u001b[0m \u001b[1m0s\u001b[0m 2ms/step - accuracy: 0.4381 - loss: 0.6145 \n",
      "Epoch 20/20\n",
      "\u001b[1m4/4\u001b[0m \u001b[32m━━━━━━━━━━━━━━━━━━━━\u001b[0m\u001b[37m\u001b[0m \u001b[1m0s\u001b[0m 3ms/step - accuracy: 0.3881 - loss: 0.6331 \n",
      "\u001b[1m1/1\u001b[0m \u001b[32m━━━━━━━━━━━━━━━━━━━━\u001b[0m\u001b[37m\u001b[0m \u001b[1m0s\u001b[0m 124ms/step - accuracy: 0.0000e+00 - loss: 0.6977\n",
      " Model Accuracy: 0.0\n"
     ]
    }
   ],
   "source": [
    "# Predicting Customer Churn in Telecom\n",
    "import numpy as np\n",
    "import pandas as pd\n",
    "from sklearn.model_selection import train_test_split\n",
    "from sklearn.preprocessing import StandardScaler\n",
    "from tensorflow.keras.models import Sequential\n",
    "from tensorflow.keras.layers import Dense\n",
    "\n",
    "# Step 1: Create Sample Data\n",
    "data = {\n",
    "    'Age': [25, 40, 35, 28, 50, 45, 23, 30, 60, 38],\n",
    "    'MonthlyCharges': [300, 700, 450, 400, 1000, 750, 250, 600, 850, 500],\n",
    "    'ContractType': [0, 1, 0, 0, 1, 1, 0, 1, 1, 0],  # 0 = Monthly, 1 = Yearly\n",
    "    'Tenure': [5, 24, 12, 10, 48, 36, 3, 20, 50, 15],\n",
    "    'Churn': [1, 0, 0, 1, 0, 0, 1, 0, 0, 1]          # Target\n",
    "}\n",
    "\n",
    "df = pd.DataFrame(data)\n",
    "\n",
    "# Step 2: Features & Target\n",
    "X = df.drop('Churn', axis=1)\n",
    "y = df['Churn']\n",
    "\n",
    "# Scale features\n",
    "scaler = StandardScaler()\n",
    "X_scaled = scaler.fit_transform(X)\n",
    "\n",
    "# Train-test split\n",
    "X_train, X_test, y_train, y_test = train_test_split(X_scaled, y, test_size=0.3, random_state=42)\n",
    "\n",
    "# Step 3: Build Neural Network\n",
    "model = Sequential([\n",
    "    Dense(8, activation='relu', input_shape=(X_train.shape[1],)),  # Hidden layer 1\n",
    "    Dense(4, activation='relu'),                                   # Hidden layer 2\n",
    "    Dense(1, activation='sigmoid')                                 # Output layer\n",
    "])\n",
    "\n",
    "# Step 4: Compile Model\n",
    "model.compile(optimizer='adam', loss='binary_crossentropy', metrics=['accuracy'])\n",
    "\n",
    "# Step 5: Train Model\n",
    "model.fit(X_train, y_train, epochs=20, batch_size=2, verbose=1)\n",
    "\n",
    "# Step 6: Evaluate\n",
    "loss, accuracy = model.evaluate(X_test, y_test)\n",
    "print(\" Model Accuracy:\", accuracy)"
   ]
  },
  {
   "cell_type": "code",
   "execution_count": null,
   "id": "89668ebe",
   "metadata": {},
   "outputs": [],
   "source": []
  },
  {
   "cell_type": "markdown",
   "id": "d0e34652",
   "metadata": {},
   "source": [
    "# Client Project: Implement a simple neural network for image classification (e.g., MNIST dataset)."
   ]
  },
  {
   "cell_type": "code",
   "execution_count": 6,
   "id": "737d930f",
   "metadata": {},
   "outputs": [
    {
     "name": "stdout",
     "output_type": "stream",
     "text": [
      "Downloading data from https://storage.googleapis.com/tensorflow/tf-keras-datasets/mnist.npz\n",
      "\u001b[1m11490434/11490434\u001b[0m \u001b[32m━━━━━━━━━━━━━━━━━━━━\u001b[0m\u001b[37m\u001b[0m \u001b[1m61s\u001b[0m 5us/step\n"
     ]
    },
    {
     "name": "stderr",
     "output_type": "stream",
     "text": [
      "C:\\Users\\91832\\anaconda3\\Lib\\site-packages\\keras\\src\\layers\\reshaping\\flatten.py:37: UserWarning: Do not pass an `input_shape`/`input_dim` argument to a layer. When using Sequential models, prefer using an `Input(shape)` object as the first layer in the model instead.\n",
      "  super().__init__(**kwargs)\n"
     ]
    },
    {
     "name": "stdout",
     "output_type": "stream",
     "text": [
      "Epoch 1/5\n",
      "\u001b[1m1875/1875\u001b[0m \u001b[32m━━━━━━━━━━━━━━━━━━━━\u001b[0m\u001b[37m\u001b[0m \u001b[1m8s\u001b[0m 2ms/step - accuracy: 0.8728 - loss: 0.4310\n",
      "Epoch 2/5\n",
      "\u001b[1m1875/1875\u001b[0m \u001b[32m━━━━━━━━━━━━━━━━━━━━\u001b[0m\u001b[37m\u001b[0m \u001b[1m4s\u001b[0m 2ms/step - accuracy: 0.9665 - loss: 0.1081\n",
      "Epoch 3/5\n",
      "\u001b[1m1875/1875\u001b[0m \u001b[32m━━━━━━━━━━━━━━━━━━━━\u001b[0m\u001b[37m\u001b[0m \u001b[1m4s\u001b[0m 2ms/step - accuracy: 0.9771 - loss: 0.0716\n",
      "Epoch 4/5\n",
      "\u001b[1m1875/1875\u001b[0m \u001b[32m━━━━━━━━━━━━━━━━━━━━\u001b[0m\u001b[37m\u001b[0m \u001b[1m4s\u001b[0m 2ms/step - accuracy: 0.9836 - loss: 0.0510\n",
      "Epoch 5/5\n",
      "\u001b[1m1875/1875\u001b[0m \u001b[32m━━━━━━━━━━━━━━━━━━━━\u001b[0m\u001b[37m\u001b[0m \u001b[1m4s\u001b[0m 2ms/step - accuracy: 0.9874 - loss: 0.0390\n",
      "\u001b[1m313/313\u001b[0m \u001b[32m━━━━━━━━━━━━━━━━━━━━\u001b[0m\u001b[37m\u001b[0m \u001b[1m1s\u001b[0m 1ms/step - accuracy: 0.9738 - loss: 0.0890\n",
      " Test Accuracy: 0.9765999913215637\n"
     ]
    }
   ],
   "source": [
    "# Neural Network for Image Classification\n",
    "import tensorflow as tf\n",
    "from tensorflow.keras.models import Sequential\n",
    "from tensorflow.keras.layers import Dense, Flatten\n",
    "from tensorflow.keras.datasets import mnist\n",
    "\n",
    "# Step 1: Load MNIST Dataset\n",
    "(x_train, y_train), (x_test, y_test) = mnist.load_data()\n",
    "\n",
    "# Normalize pixel values (0–255 → 0–1)\n",
    "x_train = x_train / 255.0\n",
    "x_test = x_test / 255.0\n",
    "\n",
    "# Step 2: Build Neural Network\n",
    "model = Sequential([\n",
    "    Flatten(input_shape=(28, 28)),        # Flatten 28x28 image → 784 features\n",
    "    Dense(128, activation='relu'),        # Hidden layer 1\n",
    "    Dense(64, activation='relu'),         # Hidden layer 2\n",
    "    Dense(10, activation='softmax')       # Output layer (10 digits: 0–9)\n",
    "])\n",
    "\n",
    "# Step 3: Compile Model\n",
    "model.compile(optimizer='adam',\n",
    "              loss='sparse_categorical_crossentropy',\n",
    "              metrics=['accuracy'])\n",
    "\n",
    "# Step 4: Train Model\n",
    "model.fit(x_train, y_train, epochs=5, batch_size=32, verbose=1)\n",
    "\n",
    "# Step 5: Evaluate\n",
    "loss, accuracy = model.evaluate(x_test, y_test)\n",
    "print(\" Test Accuracy:\", accuracy)"
   ]
  },
  {
   "cell_type": "code",
   "execution_count": null,
   "id": "a71b6570",
   "metadata": {},
   "outputs": [],
   "source": []
  }
 ],
 "metadata": {
  "kernelspec": {
   "display_name": "Python 3 (ipykernel)",
   "language": "python",
   "name": "python3"
  },
  "language_info": {
   "codemirror_mode": {
    "name": "ipython",
    "version": 3
   },
   "file_extension": ".py",
   "mimetype": "text/x-python",
   "name": "python",
   "nbconvert_exporter": "python",
   "pygments_lexer": "ipython3",
   "version": "3.11.5"
  }
 },
 "nbformat": 4,
 "nbformat_minor": 5
}
